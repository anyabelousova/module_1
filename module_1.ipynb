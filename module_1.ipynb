{
 "cells": [
  {
   "cell_type": "code",
   "execution_count": 1,
   "metadata": {
    "_cell_guid": "b1076dfc-b9ad-4769-8c92-a6c4dae69d19",
    "_uuid": "8f2839f25d086af736a60e9eeb907d3b93b6e0e5",
    "colab": {},
    "colab_type": "code",
    "id": "U2D2gTdJVp90"
   },
   "outputs": [],
   "source": [
    "import numpy as np\n",
    "import pandas as pd\n",
    "import seaborn as sns\n",
    "import matplotlib.pyplot as plt\n",
    "from collections import Counter"
   ]
  },
  {
   "cell_type": "code",
   "execution_count": 2,
   "metadata": {
    "_cell_guid": "79c7e3d0-c299-4dcb-8224-4455121ee9b0",
    "_uuid": "d629ff2d2480ee46fbb7e2d37f6b5fab8052498a",
    "colab": {},
    "colab_type": "code",
    "id": "oyGfxL3eVp9-"
   },
   "outputs": [
    {
     "data": {
      "text/html": [
       "<div>\n",
       "<style scoped>\n",
       "    .dataframe tbody tr th:only-of-type {\n",
       "        vertical-align: middle;\n",
       "    }\n",
       "\n",
       "    .dataframe tbody tr th {\n",
       "        vertical-align: top;\n",
       "    }\n",
       "\n",
       "    .dataframe thead th {\n",
       "        text-align: right;\n",
       "    }\n",
       "</style>\n",
       "<table border=\"1\" class=\"dataframe\">\n",
       "  <thead>\n",
       "    <tr style=\"text-align: right;\">\n",
       "      <th></th>\n",
       "      <th>imdb_id</th>\n",
       "      <th>budget</th>\n",
       "      <th>revenue</th>\n",
       "      <th>original_title</th>\n",
       "      <th>cast</th>\n",
       "      <th>director</th>\n",
       "      <th>tagline</th>\n",
       "      <th>overview</th>\n",
       "      <th>runtime</th>\n",
       "      <th>genres</th>\n",
       "      <th>production_companies</th>\n",
       "      <th>release_date</th>\n",
       "      <th>vote_average</th>\n",
       "      <th>release_year</th>\n",
       "    </tr>\n",
       "  </thead>\n",
       "  <tbody>\n",
       "    <tr>\n",
       "      <th>824</th>\n",
       "      <td>tt1068242</td>\n",
       "      <td>24000000</td>\n",
       "      <td>63543328</td>\n",
       "      <td>Footloose</td>\n",
       "      <td>Kenny Wormald|Julianne Hough|Dennis Quaid|Andi...</td>\n",
       "      <td>Craig Brewer</td>\n",
       "      <td>There comes a time to cut loose.</td>\n",
       "      <td>City kid Ren MacCormack moves to a small town ...</td>\n",
       "      <td>113</td>\n",
       "      <td>Drama|Music|Romance</td>\n",
       "      <td>Spyglass Entertainment|MTV Films</td>\n",
       "      <td>10/6/2011</td>\n",
       "      <td>6.5</td>\n",
       "      <td>2011</td>\n",
       "    </tr>\n",
       "    <tr>\n",
       "      <th>897</th>\n",
       "      <td>tt0238380</td>\n",
       "      <td>20000000</td>\n",
       "      <td>5359645</td>\n",
       "      <td>Equilibrium</td>\n",
       "      <td>Christian Bale|Taye Diggs|Emily Watson|Angus M...</td>\n",
       "      <td>Kurt Wimmer</td>\n",
       "      <td>In a future where freedom is outlawed, outlaws...</td>\n",
       "      <td>In a dystopian future, a totalitarian regime m...</td>\n",
       "      <td>107</td>\n",
       "      <td>Action|Science Fiction|Thriller</td>\n",
       "      <td>Dimension Films|Blue Tulip Productions</td>\n",
       "      <td>12/6/2002</td>\n",
       "      <td>6.9</td>\n",
       "      <td>2002</td>\n",
       "    </tr>\n",
       "    <tr>\n",
       "      <th>26</th>\n",
       "      <td>tt2637276</td>\n",
       "      <td>68000000</td>\n",
       "      <td>215863606</td>\n",
       "      <td>Ted 2</td>\n",
       "      <td>Mark Wahlberg|Seth MacFarlane|Amanda Seyfried|...</td>\n",
       "      <td>Seth MacFarlane</td>\n",
       "      <td>Ted is Coming, Again.</td>\n",
       "      <td>Newlywed couple Ted and Tami-Lynn want to have...</td>\n",
       "      <td>115</td>\n",
       "      <td>Comedy</td>\n",
       "      <td>Universal Pictures|Media Rights Capital|Fuzzy ...</td>\n",
       "      <td>6/25/2015</td>\n",
       "      <td>6.3</td>\n",
       "      <td>2015</td>\n",
       "    </tr>\n",
       "    <tr>\n",
       "      <th>1463</th>\n",
       "      <td>tt0479143</td>\n",
       "      <td>24000000</td>\n",
       "      <td>155721132</td>\n",
       "      <td>Rocky Balboa</td>\n",
       "      <td>Sylvester Stallone|Burt Young|Milo Ventimiglia...</td>\n",
       "      <td>Sylvester Stallone</td>\n",
       "      <td>It ain't over 'til it's over.</td>\n",
       "      <td>When he loses a highly publicized virtual boxi...</td>\n",
       "      <td>102</td>\n",
       "      <td>Drama</td>\n",
       "      <td>Columbia Pictures|Revolution Studios|Rogue Mar...</td>\n",
       "      <td>12/20/2006</td>\n",
       "      <td>6.4</td>\n",
       "      <td>2006</td>\n",
       "    </tr>\n",
       "    <tr>\n",
       "      <th>1541</th>\n",
       "      <td>tt0395495</td>\n",
       "      <td>25000000</td>\n",
       "      <td>16158487</td>\n",
       "      <td>Catch and Release</td>\n",
       "      <td>Jennifer Garner|Timothy Olyphant|Kevin Smith|S...</td>\n",
       "      <td>Susannah Grant</td>\n",
       "      <td>Life is messy. Love is messier</td>\n",
       "      <td>Gray Wheeler just lost everything. But it coul...</td>\n",
       "      <td>111</td>\n",
       "      <td>Comedy|Drama|Romance</td>\n",
       "      <td>Columbia Pictures Corporation|Relativity Media</td>\n",
       "      <td>10/20/2006</td>\n",
       "      <td>6.0</td>\n",
       "      <td>2006</td>\n",
       "    </tr>\n",
       "  </tbody>\n",
       "</table>\n",
       "</div>"
      ],
      "text/plain": [
       "        imdb_id    budget    revenue     original_title  \\\n",
       "824   tt1068242  24000000   63543328          Footloose   \n",
       "897   tt0238380  20000000    5359645        Equilibrium   \n",
       "26    tt2637276  68000000  215863606              Ted 2   \n",
       "1463  tt0479143  24000000  155721132       Rocky Balboa   \n",
       "1541  tt0395495  25000000   16158487  Catch and Release   \n",
       "\n",
       "                                                   cast            director  \\\n",
       "824   Kenny Wormald|Julianne Hough|Dennis Quaid|Andi...        Craig Brewer   \n",
       "897   Christian Bale|Taye Diggs|Emily Watson|Angus M...         Kurt Wimmer   \n",
       "26    Mark Wahlberg|Seth MacFarlane|Amanda Seyfried|...     Seth MacFarlane   \n",
       "1463  Sylvester Stallone|Burt Young|Milo Ventimiglia...  Sylvester Stallone   \n",
       "1541  Jennifer Garner|Timothy Olyphant|Kevin Smith|S...      Susannah Grant   \n",
       "\n",
       "                                                tagline  \\\n",
       "824                    There comes a time to cut loose.   \n",
       "897   In a future where freedom is outlawed, outlaws...   \n",
       "26                                Ted is Coming, Again.   \n",
       "1463                      It ain't over 'til it's over.   \n",
       "1541                     Life is messy. Love is messier   \n",
       "\n",
       "                                               overview  runtime  \\\n",
       "824   City kid Ren MacCormack moves to a small town ...      113   \n",
       "897   In a dystopian future, a totalitarian regime m...      107   \n",
       "26    Newlywed couple Ted and Tami-Lynn want to have...      115   \n",
       "1463  When he loses a highly publicized virtual boxi...      102   \n",
       "1541  Gray Wheeler just lost everything. But it coul...      111   \n",
       "\n",
       "                               genres  \\\n",
       "824               Drama|Music|Romance   \n",
       "897   Action|Science Fiction|Thriller   \n",
       "26                             Comedy   \n",
       "1463                            Drama   \n",
       "1541             Comedy|Drama|Romance   \n",
       "\n",
       "                                   production_companies release_date  \\\n",
       "824                    Spyglass Entertainment|MTV Films    10/6/2011   \n",
       "897              Dimension Films|Blue Tulip Productions    12/6/2002   \n",
       "26    Universal Pictures|Media Rights Capital|Fuzzy ...    6/25/2015   \n",
       "1463  Columbia Pictures|Revolution Studios|Rogue Mar...   12/20/2006   \n",
       "1541     Columbia Pictures Corporation|Relativity Media   10/20/2006   \n",
       "\n",
       "      vote_average  release_year  \n",
       "824            6.5          2011  \n",
       "897            6.9          2002  \n",
       "26             6.3          2015  \n",
       "1463           6.4          2006  \n",
       "1541           6.0          2006  "
      ]
     },
     "execution_count": 2,
     "metadata": {},
     "output_type": "execute_result"
    }
   ],
   "source": [
    "data = pd.read_csv('movie_bd_v5.csv')\n",
    "data.sample(5)"
   ]
  },
  {
   "cell_type": "code",
   "execution_count": 3,
   "metadata": {
    "colab": {},
    "colab_type": "code",
    "id": "CoYUnagMVp-C"
   },
   "outputs": [
    {
     "data": {
      "text/html": [
       "<div>\n",
       "<style scoped>\n",
       "    .dataframe tbody tr th:only-of-type {\n",
       "        vertical-align: middle;\n",
       "    }\n",
       "\n",
       "    .dataframe tbody tr th {\n",
       "        vertical-align: top;\n",
       "    }\n",
       "\n",
       "    .dataframe thead th {\n",
       "        text-align: right;\n",
       "    }\n",
       "</style>\n",
       "<table border=\"1\" class=\"dataframe\">\n",
       "  <thead>\n",
       "    <tr style=\"text-align: right;\">\n",
       "      <th></th>\n",
       "      <th>budget</th>\n",
       "      <th>revenue</th>\n",
       "      <th>runtime</th>\n",
       "      <th>vote_average</th>\n",
       "      <th>release_year</th>\n",
       "    </tr>\n",
       "  </thead>\n",
       "  <tbody>\n",
       "    <tr>\n",
       "      <th>count</th>\n",
       "      <td>1.889000e+03</td>\n",
       "      <td>1.889000e+03</td>\n",
       "      <td>1889.000000</td>\n",
       "      <td>1889.000000</td>\n",
       "      <td>1889.000000</td>\n",
       "    </tr>\n",
       "    <tr>\n",
       "      <th>mean</th>\n",
       "      <td>5.431083e+07</td>\n",
       "      <td>1.553653e+08</td>\n",
       "      <td>109.658549</td>\n",
       "      <td>6.140762</td>\n",
       "      <td>2007.860773</td>\n",
       "    </tr>\n",
       "    <tr>\n",
       "      <th>std</th>\n",
       "      <td>4.858721e+07</td>\n",
       "      <td>2.146698e+08</td>\n",
       "      <td>18.017041</td>\n",
       "      <td>0.764763</td>\n",
       "      <td>4.468841</td>\n",
       "    </tr>\n",
       "    <tr>\n",
       "      <th>min</th>\n",
       "      <td>5.000000e+06</td>\n",
       "      <td>2.033165e+06</td>\n",
       "      <td>63.000000</td>\n",
       "      <td>3.300000</td>\n",
       "      <td>2000.000000</td>\n",
       "    </tr>\n",
       "    <tr>\n",
       "      <th>25%</th>\n",
       "      <td>2.000000e+07</td>\n",
       "      <td>3.456058e+07</td>\n",
       "      <td>97.000000</td>\n",
       "      <td>5.600000</td>\n",
       "      <td>2004.000000</td>\n",
       "    </tr>\n",
       "    <tr>\n",
       "      <th>50%</th>\n",
       "      <td>3.800000e+07</td>\n",
       "      <td>8.361541e+07</td>\n",
       "      <td>107.000000</td>\n",
       "      <td>6.100000</td>\n",
       "      <td>2008.000000</td>\n",
       "    </tr>\n",
       "    <tr>\n",
       "      <th>75%</th>\n",
       "      <td>7.200000e+07</td>\n",
       "      <td>1.782626e+08</td>\n",
       "      <td>120.000000</td>\n",
       "      <td>6.600000</td>\n",
       "      <td>2012.000000</td>\n",
       "    </tr>\n",
       "    <tr>\n",
       "      <th>max</th>\n",
       "      <td>3.800000e+08</td>\n",
       "      <td>2.781506e+09</td>\n",
       "      <td>214.000000</td>\n",
       "      <td>8.100000</td>\n",
       "      <td>2015.000000</td>\n",
       "    </tr>\n",
       "  </tbody>\n",
       "</table>\n",
       "</div>"
      ],
      "text/plain": [
       "             budget       revenue      runtime  vote_average  release_year\n",
       "count  1.889000e+03  1.889000e+03  1889.000000   1889.000000   1889.000000\n",
       "mean   5.431083e+07  1.553653e+08   109.658549      6.140762   2007.860773\n",
       "std    4.858721e+07  2.146698e+08    18.017041      0.764763      4.468841\n",
       "min    5.000000e+06  2.033165e+06    63.000000      3.300000   2000.000000\n",
       "25%    2.000000e+07  3.456058e+07    97.000000      5.600000   2004.000000\n",
       "50%    3.800000e+07  8.361541e+07   107.000000      6.100000   2008.000000\n",
       "75%    7.200000e+07  1.782626e+08   120.000000      6.600000   2012.000000\n",
       "max    3.800000e+08  2.781506e+09   214.000000      8.100000   2015.000000"
      ]
     },
     "execution_count": 3,
     "metadata": {},
     "output_type": "execute_result"
    }
   ],
   "source": [
    "data.describe()"
   ]
  },
  {
   "cell_type": "markdown",
   "metadata": {
    "colab_type": "text",
    "id": "DTIt7ezGVp-G"
   },
   "source": [
    "# Предобработка"
   ]
  },
  {
   "cell_type": "code",
   "execution_count": 4,
   "metadata": {
    "colab": {},
    "colab_type": "code",
    "id": "jNb40DwKVp-H"
   },
   "outputs": [],
   "source": [
    "answers = {} # создадим словарь для ответов\n",
    "\n",
    "# тут другие ваши предобработки колонок например:\n",
    "\n",
    "#the time given in the dataset is in string format.\n",
    "#So we need to change this in datetime format\n",
    "# ..."
   ]
  },
  {
   "cell_type": "markdown",
   "metadata": {
    "colab_type": "text",
    "id": "YxZaH-nPVp-L"
   },
   "source": [
    "# 1. У какого фильма из списка самый большой бюджет?"
   ]
  },
  {
   "cell_type": "markdown",
   "metadata": {
    "colab_type": "text",
    "id": "Nd-G5gX6Vp-M"
   },
   "source": [
    "Использовать варианты ответов в коде решения запрещено.    \n",
    "Вы думаете и в жизни у вас будут варианты ответов?)"
   ]
  },
  {
   "cell_type": "code",
   "execution_count": 5,
   "metadata": {
    "colab": {},
    "colab_type": "code",
    "id": "uVnXAY5RVp-O"
   },
   "outputs": [],
   "source": [
    "# в словарь вставляем номер вопроса и ваш ответ на него\n",
    "# Пример: \n",
    "answers['1'] = '2. Spider-Man 3 (tt0413300)'\n",
    "# запишите свой вариант ответа\n",
    "answers['1'] = '723. Pirates of the Caribbean: On Stranger Tides (tt1298650)' #+\n",
    "# если ответили верно, можете добавить комментарий со значком \"+\""
   ]
  },
  {
   "cell_type": "code",
   "execution_count": 6,
   "metadata": {
    "colab": {},
    "colab_type": "code",
    "id": "dZwb3m28Vp-S"
   },
   "outputs": [
    {
     "data": {
      "text/html": [
       "<div>\n",
       "<style scoped>\n",
       "    .dataframe tbody tr th:only-of-type {\n",
       "        vertical-align: middle;\n",
       "    }\n",
       "\n",
       "    .dataframe tbody tr th {\n",
       "        vertical-align: top;\n",
       "    }\n",
       "\n",
       "    .dataframe thead th {\n",
       "        text-align: right;\n",
       "    }\n",
       "</style>\n",
       "<table border=\"1\" class=\"dataframe\">\n",
       "  <thead>\n",
       "    <tr style=\"text-align: right;\">\n",
       "      <th></th>\n",
       "      <th>imdb_id</th>\n",
       "      <th>budget</th>\n",
       "      <th>revenue</th>\n",
       "      <th>original_title</th>\n",
       "      <th>cast</th>\n",
       "      <th>director</th>\n",
       "      <th>tagline</th>\n",
       "      <th>overview</th>\n",
       "      <th>runtime</th>\n",
       "      <th>genres</th>\n",
       "      <th>production_companies</th>\n",
       "      <th>release_date</th>\n",
       "      <th>vote_average</th>\n",
       "      <th>release_year</th>\n",
       "    </tr>\n",
       "  </thead>\n",
       "  <tbody>\n",
       "    <tr>\n",
       "      <th>723</th>\n",
       "      <td>tt1298650</td>\n",
       "      <td>380000000</td>\n",
       "      <td>1021683000</td>\n",
       "      <td>Pirates of the Caribbean: On Stranger Tides</td>\n",
       "      <td>Johnny Depp|PenÃ©lope Cruz|Geoffrey Rush|Ian M...</td>\n",
       "      <td>Rob Marshall</td>\n",
       "      <td>Live Forever Or Die Trying.</td>\n",
       "      <td>Captain Jack Sparrow crosses paths with a woma...</td>\n",
       "      <td>136</td>\n",
       "      <td>Adventure|Action|Fantasy</td>\n",
       "      <td>Walt Disney Pictures|Jerry Bruckheimer Films|M...</td>\n",
       "      <td>5/11/2011</td>\n",
       "      <td>6.3</td>\n",
       "      <td>2011</td>\n",
       "    </tr>\n",
       "  </tbody>\n",
       "</table>\n",
       "</div>"
      ],
      "text/plain": [
       "       imdb_id     budget     revenue  \\\n",
       "723  tt1298650  380000000  1021683000   \n",
       "\n",
       "                                  original_title  \\\n",
       "723  Pirates of the Caribbean: On Stranger Tides   \n",
       "\n",
       "                                                  cast      director  \\\n",
       "723  Johnny Depp|PenÃ©lope Cruz|Geoffrey Rush|Ian M...  Rob Marshall   \n",
       "\n",
       "                         tagline  \\\n",
       "723  Live Forever Or Die Trying.   \n",
       "\n",
       "                                              overview  runtime  \\\n",
       "723  Captain Jack Sparrow crosses paths with a woma...      136   \n",
       "\n",
       "                       genres  \\\n",
       "723  Adventure|Action|Fantasy   \n",
       "\n",
       "                                  production_companies release_date  \\\n",
       "723  Walt Disney Pictures|Jerry Bruckheimer Films|M...    5/11/2011   \n",
       "\n",
       "     vote_average  release_year  \n",
       "723           6.3          2011  "
      ]
     },
     "metadata": {},
     "output_type": "display_data"
    },
    {
     "data": {
      "text/plain": [
       "723    Pirates of the Caribbean: On Stranger Tides\n",
       "Name: original_title, dtype: object"
      ]
     },
     "execution_count": 6,
     "metadata": {},
     "output_type": "execute_result"
    }
   ],
   "source": [
    "# тут пишем ваш код для решения данного вопроса:\n",
    "s = data[data.budget == data.budget.max()]\n",
    "display(s)\n",
    "s['original_title']"
   ]
  },
  {
   "cell_type": "markdown",
   "metadata": {
    "colab_type": "text",
    "id": "K7L3nbRXVp-X"
   },
   "source": [
    "ВАРИАНТ 2"
   ]
  },
  {
   "cell_type": "code",
   "execution_count": 7,
   "metadata": {
    "colab": {},
    "colab_type": "code",
    "id": "OGaoQI7rVp-X"
   },
   "outputs": [],
   "source": [
    "# можно добавлять разные варианты решения\n"
   ]
  },
  {
   "cell_type": "markdown",
   "metadata": {
    "colab_type": "text",
    "id": "FNRbbI3vVp-c"
   },
   "source": [
    "# 2. Какой из фильмов самый длительный (в минутах)?"
   ]
  },
  {
   "cell_type": "code",
   "execution_count": 8,
   "metadata": {
    "colab": {},
    "colab_type": "code",
    "id": "vHAoEXNTVp-d"
   },
   "outputs": [],
   "source": [
    "# думаю логику работы с этим словарем вы уже поняли, \n",
    "# по этому не буду больше его дублировать\n",
    "answers['2'] = 'Gods and Generals'"
   ]
  },
  {
   "cell_type": "code",
   "execution_count": 9,
   "metadata": {
    "colab": {},
    "colab_type": "code",
    "id": "ot-VX2XrVp-g"
   },
   "outputs": [
    {
     "data": {
      "text/html": [
       "<div>\n",
       "<style scoped>\n",
       "    .dataframe tbody tr th:only-of-type {\n",
       "        vertical-align: middle;\n",
       "    }\n",
       "\n",
       "    .dataframe tbody tr th {\n",
       "        vertical-align: top;\n",
       "    }\n",
       "\n",
       "    .dataframe thead th {\n",
       "        text-align: right;\n",
       "    }\n",
       "</style>\n",
       "<table border=\"1\" class=\"dataframe\">\n",
       "  <thead>\n",
       "    <tr style=\"text-align: right;\">\n",
       "      <th></th>\n",
       "      <th>imdb_id</th>\n",
       "      <th>budget</th>\n",
       "      <th>revenue</th>\n",
       "      <th>original_title</th>\n",
       "      <th>cast</th>\n",
       "      <th>director</th>\n",
       "      <th>tagline</th>\n",
       "      <th>overview</th>\n",
       "      <th>runtime</th>\n",
       "      <th>genres</th>\n",
       "      <th>production_companies</th>\n",
       "      <th>release_date</th>\n",
       "      <th>vote_average</th>\n",
       "      <th>release_year</th>\n",
       "    </tr>\n",
       "  </thead>\n",
       "  <tbody>\n",
       "    <tr>\n",
       "      <th>1157</th>\n",
       "      <td>tt0279111</td>\n",
       "      <td>56000000</td>\n",
       "      <td>12923936</td>\n",
       "      <td>Gods and Generals</td>\n",
       "      <td>Stephen Lang|Jeff Daniels|Robert Duvall|Kevin ...</td>\n",
       "      <td>Ronald F. Maxwell</td>\n",
       "      <td>The nations heart was touched by...</td>\n",
       "      <td>The film centers mostly around the personal an...</td>\n",
       "      <td>214</td>\n",
       "      <td>Drama|History|War</td>\n",
       "      <td>Turner Pictures|Antietam Filmworks</td>\n",
       "      <td>2/21/2003</td>\n",
       "      <td>5.8</td>\n",
       "      <td>2003</td>\n",
       "    </tr>\n",
       "  </tbody>\n",
       "</table>\n",
       "</div>"
      ],
      "text/plain": [
       "        imdb_id    budget   revenue     original_title  \\\n",
       "1157  tt0279111  56000000  12923936  Gods and Generals   \n",
       "\n",
       "                                                   cast           director  \\\n",
       "1157  Stephen Lang|Jeff Daniels|Robert Duvall|Kevin ...  Ronald F. Maxwell   \n",
       "\n",
       "                                  tagline  \\\n",
       "1157  The nations heart was touched by...   \n",
       "\n",
       "                                               overview  runtime  \\\n",
       "1157  The film centers mostly around the personal an...      214   \n",
       "\n",
       "                 genres                production_companies release_date  \\\n",
       "1157  Drama|History|War  Turner Pictures|Antietam Filmworks    2/21/2003   \n",
       "\n",
       "      vote_average  release_year  \n",
       "1157           5.8          2003  "
      ]
     },
     "metadata": {},
     "output_type": "display_data"
    },
    {
     "data": {
      "text/plain": [
       "1157    Gods and Generals\n",
       "Name: original_title, dtype: object"
      ]
     },
     "execution_count": 9,
     "metadata": {},
     "output_type": "execute_result"
    }
   ],
   "source": [
    "s = data[data.runtime == data.runtime.max()]\n",
    "display(s)\n",
    "s['original_title']"
   ]
  },
  {
   "cell_type": "markdown",
   "metadata": {
    "colab_type": "text",
    "id": "bapLlpW8Vp-k"
   },
   "source": [
    "# 3. Какой из фильмов самый короткий (в минутах)?\n",
    "\n",
    "\n",
    "\n"
   ]
  },
  {
   "cell_type": "code",
   "execution_count": 10,
   "metadata": {
    "colab": {},
    "colab_type": "code",
    "id": "YBxaSHuAVp-l"
   },
   "outputs": [
    {
     "data": {
      "text/plain": [
       "768    Winnie the Pooh\n",
       "Name: original_title, dtype: object"
      ]
     },
     "execution_count": 10,
     "metadata": {},
     "output_type": "execute_result"
    }
   ],
   "source": [
    "answers['3'] = data[data.runtime == data.runtime.min()]\n",
    "answers['3']['original_title']"
   ]
  },
  {
   "cell_type": "markdown",
   "metadata": {
    "colab_type": "text",
    "id": "TfQbxbfNVp-p"
   },
   "source": [
    "# 4. Какова средняя длительность фильмов?\n"
   ]
  },
  {
   "cell_type": "code",
   "execution_count": 11,
   "metadata": {
    "colab": {},
    "colab_type": "code",
    "id": "5K6dKZYVVp-q"
   },
   "outputs": [
    {
     "data": {
      "text/plain": [
       "109.6585494970884"
      ]
     },
     "execution_count": 11,
     "metadata": {},
     "output_type": "execute_result"
    }
   ],
   "source": [
    "answers['4'] = data.runtime.mean()\n",
    "answers['4']"
   ]
  },
  {
   "cell_type": "markdown",
   "metadata": {
    "colab_type": "text",
    "id": "r5TvbnT_Vp-u"
   },
   "source": [
    "# 5. Каково медианное значение длительности фильмов? "
   ]
  },
  {
   "cell_type": "code",
   "execution_count": 12,
   "metadata": {
    "colab": {},
    "colab_type": "code",
    "id": "iBROplKnVp-v"
   },
   "outputs": [
    {
     "data": {
      "text/plain": [
       "107.0"
      ]
     },
     "execution_count": 12,
     "metadata": {},
     "output_type": "execute_result"
    }
   ],
   "source": [
    "answers['5'] = data.runtime.median()\n",
    "answers['5']"
   ]
  },
  {
   "cell_type": "markdown",
   "metadata": {
    "colab_type": "text",
    "id": "39P-deDSVp-y"
   },
   "source": [
    "# 6. Какой самый прибыльный фильм?\n",
    "#### Внимание! Здесь и далее под «прибылью» или «убытками» понимается разность между сборами и бюджетом фильма. (прибыль = сборы - бюджет) в нашем датасете это будет (profit = revenue - budget) "
   ]
  },
  {
   "cell_type": "code",
   "execution_count": 52,
   "metadata": {
    "colab": {},
    "colab_type": "code",
    "id": "UYZh4T9WVp-y"
   },
   "outputs": [
    {
     "data": {
      "text/plain": [
       "239    Avatar\n",
       "Name: original_title, dtype: object"
      ]
     },
     "execution_count": 52,
     "metadata": {},
     "output_type": "execute_result"
    }
   ],
   "source": [
    "# лучше код получения столбца profit вынести в Предобработку что в начале\n",
    "data['profit'] = data['revenue']-data['budget']\n",
    "s = data[data.profit == data.profit.max()]\n",
    "answers['6'] = s['original_title']\n",
    "answers['6']"
   ]
  },
  {
   "cell_type": "markdown",
   "metadata": {
    "colab_type": "text",
    "id": "M99JmIX4Vp-2"
   },
   "source": [
    "# 7. Какой фильм самый убыточный? "
   ]
  },
  {
   "cell_type": "code",
   "execution_count": 53,
   "metadata": {
    "colab": {},
    "colab_type": "code",
    "id": "w-D2m4XPVp-3"
   },
   "outputs": [
    {
     "data": {
      "text/plain": [
       "1245    The Lone Ranger\n",
       "Name: original_title, dtype: object"
      ]
     },
     "execution_count": 53,
     "metadata": {},
     "output_type": "execute_result"
    }
   ],
   "source": [
    "data['profit'] = data['revenue']-data['budget']\n",
    "s = data[data.profit == data.profit.min()]\n",
    "answers['7'] = s['original_title']\n",
    "answers['7']"
   ]
  },
  {
   "cell_type": "markdown",
   "metadata": {
    "colab_type": "text",
    "id": "wEOM5ERVVp-6"
   },
   "source": [
    "# 8. У скольких фильмов из датасета объем сборов оказался выше бюджета?"
   ]
  },
  {
   "cell_type": "code",
   "execution_count": 15,
   "metadata": {
    "colab": {},
    "colab_type": "code",
    "id": "y00_7HD6Vp-7"
   },
   "outputs": [
    {
     "data": {
      "text/plain": [
       "1478"
      ]
     },
     "execution_count": 15,
     "metadata": {},
     "output_type": "execute_result"
    }
   ],
   "source": [
    "answers['8'] = data[data.revenue > data.budget].cast.count()\n",
    "answers['8']"
   ]
  },
  {
   "cell_type": "markdown",
   "metadata": {
    "colab_type": "text",
    "id": "xhpspA9KVp_A"
   },
   "source": [
    "# 9. Какой фильм оказался самым кассовым в 2008 году?"
   ]
  },
  {
   "cell_type": "code",
   "execution_count": 16,
   "metadata": {
    "colab": {},
    "colab_type": "code",
    "id": "MoUyQr9RVp_B"
   },
   "outputs": [
    {
     "data": {
      "text/html": [
       "<div>\n",
       "<style scoped>\n",
       "    .dataframe tbody tr th:only-of-type {\n",
       "        vertical-align: middle;\n",
       "    }\n",
       "\n",
       "    .dataframe tbody tr th {\n",
       "        vertical-align: top;\n",
       "    }\n",
       "\n",
       "    .dataframe thead th {\n",
       "        text-align: right;\n",
       "    }\n",
       "</style>\n",
       "<table border=\"1\" class=\"dataframe\">\n",
       "  <thead>\n",
       "    <tr style=\"text-align: right;\">\n",
       "      <th></th>\n",
       "      <th>imdb_id</th>\n",
       "      <th>budget</th>\n",
       "      <th>revenue</th>\n",
       "      <th>original_title</th>\n",
       "      <th>cast</th>\n",
       "      <th>director</th>\n",
       "      <th>tagline</th>\n",
       "      <th>overview</th>\n",
       "      <th>runtime</th>\n",
       "      <th>genres</th>\n",
       "      <th>production_companies</th>\n",
       "      <th>release_date</th>\n",
       "      <th>vote_average</th>\n",
       "      <th>release_year</th>\n",
       "      <th>profit</th>\n",
       "    </tr>\n",
       "  </thead>\n",
       "  <tbody>\n",
       "    <tr>\n",
       "      <th>599</th>\n",
       "      <td>tt0468569</td>\n",
       "      <td>185000000</td>\n",
       "      <td>1001921825</td>\n",
       "      <td>The Dark Knight</td>\n",
       "      <td>Christian Bale|Michael Caine|Heath Ledger|Aaro...</td>\n",
       "      <td>Christopher Nolan</td>\n",
       "      <td>Why So Serious?</td>\n",
       "      <td>Batman raises the stakes in his war on crime. ...</td>\n",
       "      <td>152</td>\n",
       "      <td>Drama|Action|Crime|Thriller</td>\n",
       "      <td>DC Comics|Legendary Pictures|Warner Bros.|Syncopy</td>\n",
       "      <td>7/16/2008</td>\n",
       "      <td>8.1</td>\n",
       "      <td>2008</td>\n",
       "      <td>816921825</td>\n",
       "    </tr>\n",
       "  </tbody>\n",
       "</table>\n",
       "</div>"
      ],
      "text/plain": [
       "       imdb_id     budget     revenue   original_title  \\\n",
       "599  tt0468569  185000000  1001921825  The Dark Knight   \n",
       "\n",
       "                                                  cast           director  \\\n",
       "599  Christian Bale|Michael Caine|Heath Ledger|Aaro...  Christopher Nolan   \n",
       "\n",
       "             tagline                                           overview  \\\n",
       "599  Why So Serious?  Batman raises the stakes in his war on crime. ...   \n",
       "\n",
       "     runtime                       genres  \\\n",
       "599      152  Drama|Action|Crime|Thriller   \n",
       "\n",
       "                                  production_companies release_date  \\\n",
       "599  DC Comics|Legendary Pictures|Warner Bros.|Syncopy    7/16/2008   \n",
       "\n",
       "     vote_average  release_year     profit  \n",
       "599           8.1          2008  816921825  "
      ]
     },
     "execution_count": 16,
     "metadata": {},
     "output_type": "execute_result"
    }
   ],
   "source": [
    "answers['9'] = data[data['revenue'] == data[(data.release_year==2008)].revenue.max()]\n",
    "answers['9']"
   ]
  },
  {
   "cell_type": "markdown",
   "metadata": {
    "colab_type": "text",
    "id": "Zi4hDKidVp_F"
   },
   "source": [
    "# 10. Самый убыточный фильм за период с 2012 по 2014 г. (включительно)?\n"
   ]
  },
  {
   "cell_type": "code",
   "execution_count": 17,
   "metadata": {
    "colab": {},
    "colab_type": "code",
    "id": "XqyRmufJVp_F"
   },
   "outputs": [
    {
     "data": {
      "text/html": [
       "<div>\n",
       "<style scoped>\n",
       "    .dataframe tbody tr th:only-of-type {\n",
       "        vertical-align: middle;\n",
       "    }\n",
       "\n",
       "    .dataframe tbody tr th {\n",
       "        vertical-align: top;\n",
       "    }\n",
       "\n",
       "    .dataframe thead th {\n",
       "        text-align: right;\n",
       "    }\n",
       "</style>\n",
       "<table border=\"1\" class=\"dataframe\">\n",
       "  <thead>\n",
       "    <tr style=\"text-align: right;\">\n",
       "      <th></th>\n",
       "      <th>imdb_id</th>\n",
       "      <th>budget</th>\n",
       "      <th>revenue</th>\n",
       "      <th>original_title</th>\n",
       "      <th>cast</th>\n",
       "      <th>director</th>\n",
       "      <th>tagline</th>\n",
       "      <th>overview</th>\n",
       "      <th>runtime</th>\n",
       "      <th>genres</th>\n",
       "      <th>production_companies</th>\n",
       "      <th>release_date</th>\n",
       "      <th>vote_average</th>\n",
       "      <th>release_year</th>\n",
       "      <th>profit</th>\n",
       "    </tr>\n",
       "  </thead>\n",
       "  <tbody>\n",
       "    <tr>\n",
       "      <th>1245</th>\n",
       "      <td>tt1210819</td>\n",
       "      <td>255000000</td>\n",
       "      <td>89289910</td>\n",
       "      <td>The Lone Ranger</td>\n",
       "      <td>Johnny Depp|Armie Hammer|William Fichtner|Hele...</td>\n",
       "      <td>Gore Verbinski</td>\n",
       "      <td>Never Take Off the Mask</td>\n",
       "      <td>The Texas Rangers chase down a gang of outlaws...</td>\n",
       "      <td>149</td>\n",
       "      <td>Action|Adventure|Western</td>\n",
       "      <td>Walt Disney Pictures|Jerry Bruckheimer Films|I...</td>\n",
       "      <td>7/3/2013</td>\n",
       "      <td>6.0</td>\n",
       "      <td>2013</td>\n",
       "      <td>-165710090</td>\n",
       "    </tr>\n",
       "    <tr>\n",
       "      <th>1214</th>\n",
       "      <td>tt0790736</td>\n",
       "      <td>130000000</td>\n",
       "      <td>61648500</td>\n",
       "      <td>R.I.P.D.</td>\n",
       "      <td>Jeff Bridges|Ryan Reynolds|Kevin Bacon|Stephan...</td>\n",
       "      <td>Robert Schwentke</td>\n",
       "      <td>To protect and serve the living</td>\n",
       "      <td>A recently slain cop joins a team of undead po...</td>\n",
       "      <td>96</td>\n",
       "      <td>Fantasy|Action|Comedy|Crime</td>\n",
       "      <td>Universal Pictures|Original Film|Dark Horse En...</td>\n",
       "      <td>7/18/2013</td>\n",
       "      <td>5.3</td>\n",
       "      <td>2013</td>\n",
       "      <td>-68351500</td>\n",
       "    </tr>\n",
       "    <tr>\n",
       "      <th>1007</th>\n",
       "      <td>tt1374992</td>\n",
       "      <td>60000000</td>\n",
       "      <td>8106475</td>\n",
       "      <td>Upside Down</td>\n",
       "      <td>Kirsten Dunst|Jim Sturgess|Timothy Spall|James...</td>\n",
       "      <td>Juan Diego Solanas</td>\n",
       "      <td>Two worlds. One future.</td>\n",
       "      <td>In an alternate universe where twinned worlds ...</td>\n",
       "      <td>104</td>\n",
       "      <td>Romance|Science Fiction|Drama|Fantasy</td>\n",
       "      <td>Onyx Films|Studio 37|Jouror Productions|France...</td>\n",
       "      <td>9/27/2012</td>\n",
       "      <td>6.1</td>\n",
       "      <td>2012</td>\n",
       "      <td>-51893525</td>\n",
       "    </tr>\n",
       "    <tr>\n",
       "      <th>1302</th>\n",
       "      <td>tt0884726</td>\n",
       "      <td>70000000</td>\n",
       "      <td>18662027</td>\n",
       "      <td>Legends of Oz: Dorothy's Return</td>\n",
       "      <td>Lea Michele|Dan Aykroyd|Patrick Stewart|Hugh D...</td>\n",
       "      <td>Dan St. Pierre</td>\n",
       "      <td>There's trouble in OZ...</td>\n",
       "      <td>Dorothy wakes up in post-tornado Kansas, only ...</td>\n",
       "      <td>88</td>\n",
       "      <td>Animation|Music|Family</td>\n",
       "      <td>Prana Animation Studios|Summertime Entertainment</td>\n",
       "      <td>6/13/2013</td>\n",
       "      <td>6.1</td>\n",
       "      <td>2013</td>\n",
       "      <td>-51337973</td>\n",
       "    </tr>\n",
       "    <tr>\n",
       "      <th>1235</th>\n",
       "      <td>tt1308729</td>\n",
       "      <td>55000000</td>\n",
       "      <td>9489829</td>\n",
       "      <td>Bullet to the Head</td>\n",
       "      <td>Sylvester Stallone|Sung Kang|Sarah Shahi|Adewa...</td>\n",
       "      <td>Walter Hill</td>\n",
       "      <td>Revenge Never Gets Old.</td>\n",
       "      <td>After watching their respective partners die, ...</td>\n",
       "      <td>92</td>\n",
       "      <td>Action|Crime|Thriller</td>\n",
       "      <td>Dark Castle Entertainment|After Dark Films|IM ...</td>\n",
       "      <td>1/31/2013</td>\n",
       "      <td>5.2</td>\n",
       "      <td>2013</td>\n",
       "      <td>-45510171</td>\n",
       "    </tr>\n",
       "    <tr>\n",
       "      <th>...</th>\n",
       "      <td>...</td>\n",
       "      <td>...</td>\n",
       "      <td>...</td>\n",
       "      <td>...</td>\n",
       "      <td>...</td>\n",
       "      <td>...</td>\n",
       "      <td>...</td>\n",
       "      <td>...</td>\n",
       "      <td>...</td>\n",
       "      <td>...</td>\n",
       "      <td>...</td>\n",
       "      <td>...</td>\n",
       "      <td>...</td>\n",
       "      <td>...</td>\n",
       "      <td>...</td>\n",
       "    </tr>\n",
       "    <tr>\n",
       "      <th>1189</th>\n",
       "      <td>tt1690953</td>\n",
       "      <td>76000000</td>\n",
       "      <td>970761885</td>\n",
       "      <td>Despicable Me 2</td>\n",
       "      <td>Steve Carell|Kristen Wiig|Benjamin Bratt|Miran...</td>\n",
       "      <td>Pierre Coffin|Chris Renaud</td>\n",
       "      <td>Back 2 Work</td>\n",
       "      <td>Gru is recruited by the Anti-Villain League to...</td>\n",
       "      <td>98</td>\n",
       "      <td>Animation|Comedy|Family</td>\n",
       "      <td>Universal Pictures|Illumination Entertainment</td>\n",
       "      <td>6/25/2013</td>\n",
       "      <td>7.0</td>\n",
       "      <td>2013</td>\n",
       "      <td>894761885</td>\n",
       "    </tr>\n",
       "    <tr>\n",
       "      <th>974</th>\n",
       "      <td>tt1074638</td>\n",
       "      <td>200000000</td>\n",
       "      <td>1108561013</td>\n",
       "      <td>Skyfall</td>\n",
       "      <td>Daniel Craig|Judi Dench|Javier Bardem|Ralph Fi...</td>\n",
       "      <td>Sam Mendes</td>\n",
       "      <td>Think on your sins.</td>\n",
       "      <td>When Bond's latest assignment goes gravely wro...</td>\n",
       "      <td>143</td>\n",
       "      <td>Action|Adventure|Thriller</td>\n",
       "      <td>Columbia Pictures</td>\n",
       "      <td>10/25/2012</td>\n",
       "      <td>6.8</td>\n",
       "      <td>2012</td>\n",
       "      <td>908561013</td>\n",
       "    </tr>\n",
       "    <tr>\n",
       "      <th>1180</th>\n",
       "      <td>tt1300854</td>\n",
       "      <td>200000000</td>\n",
       "      <td>1215439994</td>\n",
       "      <td>Iron Man 3</td>\n",
       "      <td>Robert Downey Jr.|Gwyneth Paltrow|Guy Pearce|D...</td>\n",
       "      <td>Shane Black</td>\n",
       "      <td>Unleash the power behind the armor.</td>\n",
       "      <td>When Tony Stark's world is torn apart by a for...</td>\n",
       "      <td>130</td>\n",
       "      <td>Action|Adventure|Science Fiction</td>\n",
       "      <td>Marvel Studios</td>\n",
       "      <td>4/18/2013</td>\n",
       "      <td>6.9</td>\n",
       "      <td>2013</td>\n",
       "      <td>1015439994</td>\n",
       "    </tr>\n",
       "    <tr>\n",
       "      <th>1177</th>\n",
       "      <td>tt2294629</td>\n",
       "      <td>150000000</td>\n",
       "      <td>1274219009</td>\n",
       "      <td>Frozen</td>\n",
       "      <td>Kristen Bell|Idina Menzel|Jonathan Groff|Josh ...</td>\n",
       "      <td>Chris Buck|Jennifer Lee</td>\n",
       "      <td>Only the act of true love will thaw a frozen h...</td>\n",
       "      <td>Young princess Anna of Arendelle dreams about ...</td>\n",
       "      <td>102</td>\n",
       "      <td>Animation|Adventure|Family</td>\n",
       "      <td>Walt Disney Pictures|Walt Disney Animation Stu...</td>\n",
       "      <td>11/27/2013</td>\n",
       "      <td>7.5</td>\n",
       "      <td>2013</td>\n",
       "      <td>1124219009</td>\n",
       "    </tr>\n",
       "    <tr>\n",
       "      <th>970</th>\n",
       "      <td>tt0848228</td>\n",
       "      <td>220000000</td>\n",
       "      <td>1519557910</td>\n",
       "      <td>The Avengers</td>\n",
       "      <td>Robert Downey Jr.|Chris Evans|Mark Ruffalo|Chr...</td>\n",
       "      <td>Joss Whedon</td>\n",
       "      <td>Some assembly required.</td>\n",
       "      <td>When an unexpected enemy emerges and threatens...</td>\n",
       "      <td>143</td>\n",
       "      <td>Science Fiction|Action|Adventure</td>\n",
       "      <td>Marvel Studios</td>\n",
       "      <td>4/25/2012</td>\n",
       "      <td>7.3</td>\n",
       "      <td>2012</td>\n",
       "      <td>1299557910</td>\n",
       "    </tr>\n",
       "  </tbody>\n",
       "</table>\n",
       "<p>367 rows × 15 columns</p>\n",
       "</div>"
      ],
      "text/plain": [
       "        imdb_id     budget     revenue                   original_title  \\\n",
       "1245  tt1210819  255000000    89289910                  The Lone Ranger   \n",
       "1214  tt0790736  130000000    61648500                         R.I.P.D.   \n",
       "1007  tt1374992   60000000     8106475                      Upside Down   \n",
       "1302  tt0884726   70000000    18662027  Legends of Oz: Dorothy's Return   \n",
       "1235  tt1308729   55000000     9489829               Bullet to the Head   \n",
       "...         ...        ...         ...                              ...   \n",
       "1189  tt1690953   76000000   970761885                  Despicable Me 2   \n",
       "974   tt1074638  200000000  1108561013                          Skyfall   \n",
       "1180  tt1300854  200000000  1215439994                       Iron Man 3   \n",
       "1177  tt2294629  150000000  1274219009                           Frozen   \n",
       "970   tt0848228  220000000  1519557910                     The Avengers   \n",
       "\n",
       "                                                   cast  \\\n",
       "1245  Johnny Depp|Armie Hammer|William Fichtner|Hele...   \n",
       "1214  Jeff Bridges|Ryan Reynolds|Kevin Bacon|Stephan...   \n",
       "1007  Kirsten Dunst|Jim Sturgess|Timothy Spall|James...   \n",
       "1302  Lea Michele|Dan Aykroyd|Patrick Stewart|Hugh D...   \n",
       "1235  Sylvester Stallone|Sung Kang|Sarah Shahi|Adewa...   \n",
       "...                                                 ...   \n",
       "1189  Steve Carell|Kristen Wiig|Benjamin Bratt|Miran...   \n",
       "974   Daniel Craig|Judi Dench|Javier Bardem|Ralph Fi...   \n",
       "1180  Robert Downey Jr.|Gwyneth Paltrow|Guy Pearce|D...   \n",
       "1177  Kristen Bell|Idina Menzel|Jonathan Groff|Josh ...   \n",
       "970   Robert Downey Jr.|Chris Evans|Mark Ruffalo|Chr...   \n",
       "\n",
       "                        director  \\\n",
       "1245              Gore Verbinski   \n",
       "1214            Robert Schwentke   \n",
       "1007          Juan Diego Solanas   \n",
       "1302              Dan St. Pierre   \n",
       "1235                 Walter Hill   \n",
       "...                          ...   \n",
       "1189  Pierre Coffin|Chris Renaud   \n",
       "974                   Sam Mendes   \n",
       "1180                 Shane Black   \n",
       "1177     Chris Buck|Jennifer Lee   \n",
       "970                  Joss Whedon   \n",
       "\n",
       "                                                tagline  \\\n",
       "1245                            Never Take Off the Mask   \n",
       "1214                    To protect and serve the living   \n",
       "1007                            Two worlds. One future.   \n",
       "1302                           There's trouble in OZ...   \n",
       "1235                            Revenge Never Gets Old.   \n",
       "...                                                 ...   \n",
       "1189                                        Back 2 Work   \n",
       "974                                 Think on your sins.   \n",
       "1180                Unleash the power behind the armor.   \n",
       "1177  Only the act of true love will thaw a frozen h...   \n",
       "970                             Some assembly required.   \n",
       "\n",
       "                                               overview  runtime  \\\n",
       "1245  The Texas Rangers chase down a gang of outlaws...      149   \n",
       "1214  A recently slain cop joins a team of undead po...       96   \n",
       "1007  In an alternate universe where twinned worlds ...      104   \n",
       "1302  Dorothy wakes up in post-tornado Kansas, only ...       88   \n",
       "1235  After watching their respective partners die, ...       92   \n",
       "...                                                 ...      ...   \n",
       "1189  Gru is recruited by the Anti-Villain League to...       98   \n",
       "974   When Bond's latest assignment goes gravely wro...      143   \n",
       "1180  When Tony Stark's world is torn apart by a for...      130   \n",
       "1177  Young princess Anna of Arendelle dreams about ...      102   \n",
       "970   When an unexpected enemy emerges and threatens...      143   \n",
       "\n",
       "                                     genres  \\\n",
       "1245               Action|Adventure|Western   \n",
       "1214            Fantasy|Action|Comedy|Crime   \n",
       "1007  Romance|Science Fiction|Drama|Fantasy   \n",
       "1302                 Animation|Music|Family   \n",
       "1235                  Action|Crime|Thriller   \n",
       "...                                     ...   \n",
       "1189                Animation|Comedy|Family   \n",
       "974               Action|Adventure|Thriller   \n",
       "1180       Action|Adventure|Science Fiction   \n",
       "1177             Animation|Adventure|Family   \n",
       "970        Science Fiction|Action|Adventure   \n",
       "\n",
       "                                   production_companies release_date  \\\n",
       "1245  Walt Disney Pictures|Jerry Bruckheimer Films|I...     7/3/2013   \n",
       "1214  Universal Pictures|Original Film|Dark Horse En...    7/18/2013   \n",
       "1007  Onyx Films|Studio 37|Jouror Productions|France...    9/27/2012   \n",
       "1302   Prana Animation Studios|Summertime Entertainment    6/13/2013   \n",
       "1235  Dark Castle Entertainment|After Dark Films|IM ...    1/31/2013   \n",
       "...                                                 ...          ...   \n",
       "1189      Universal Pictures|Illumination Entertainment    6/25/2013   \n",
       "974                                   Columbia Pictures   10/25/2012   \n",
       "1180                                     Marvel Studios    4/18/2013   \n",
       "1177  Walt Disney Pictures|Walt Disney Animation Stu...   11/27/2013   \n",
       "970                                      Marvel Studios    4/25/2012   \n",
       "\n",
       "      vote_average  release_year      profit  \n",
       "1245           6.0          2013  -165710090  \n",
       "1214           5.3          2013   -68351500  \n",
       "1007           6.1          2012   -51893525  \n",
       "1302           6.1          2013   -51337973  \n",
       "1235           5.2          2013   -45510171  \n",
       "...            ...           ...         ...  \n",
       "1189           7.0          2013   894761885  \n",
       "974            6.8          2012   908561013  \n",
       "1180           6.9          2013  1015439994  \n",
       "1177           7.5          2013  1124219009  \n",
       "970            7.3          2012  1299557910  \n",
       "\n",
       "[367 rows x 15 columns]"
      ]
     },
     "execution_count": 17,
     "metadata": {},
     "output_type": "execute_result"
    }
   ],
   "source": [
    "answers['10'] = data.loc[(data['release_year']<= 2014)&(data['release_year']>=2012)].sort_values(by='profit')\n",
    "answers['10']"
   ]
  },
  {
   "cell_type": "markdown",
   "metadata": {
    "colab_type": "text",
    "id": "EA7Sa9dkVp_I"
   },
   "source": [
    "# 11. Какого жанра фильмов больше всего?"
   ]
  },
  {
   "cell_type": "code",
   "execution_count": 18,
   "metadata": {
    "colab": {},
    "colab_type": "code",
    "id": "zsJAwJ8QVp_J"
   },
   "outputs": [
    {
     "data": {
      "text/plain": [
       "[('Drama', 782)]"
      ]
     },
     "execution_count": 18,
     "metadata": {},
     "output_type": "execute_result"
    }
   ],
   "source": [
    "# эту задачу тоже можно решать разными подходами, попробуй реализовать разные варианты\n",
    "# если будешь добавлять функцию - выноси ее в предобработку что в начале\n",
    "q = data.genres.str.cat(sep = '|').split('|')\n",
    "answers['11'] = Counter(q).most_common(1)\n",
    "answers['11']"
   ]
  },
  {
   "cell_type": "markdown",
   "metadata": {
    "colab_type": "text",
    "id": "Ax6g2C8SVp_M"
   },
   "source": [
    "ВАРИАНТ 2"
   ]
  },
  {
   "cell_type": "code",
   "execution_count": null,
   "metadata": {
    "colab": {},
    "colab_type": "code",
    "id": "otO3SbrSVp_N"
   },
   "outputs": [],
   "source": []
  },
  {
   "cell_type": "markdown",
   "metadata": {
    "colab_type": "text",
    "id": "T9_bPWpkVp_Q"
   },
   "source": [
    "# 12. Фильмы какого жанра чаще всего становятся прибыльными? "
   ]
  },
  {
   "cell_type": "code",
   "execution_count": 19,
   "metadata": {
    "colab": {},
    "colab_type": "code",
    "id": "Tmt8MaK1Vp_R"
   },
   "outputs": [
    {
     "data": {
      "text/plain": [
       "[('Drama', 560)]"
      ]
     },
     "execution_count": 19,
     "metadata": {},
     "output_type": "execute_result"
    }
   ],
   "source": [
    "data['profit'] = data['revenue']-data['budget']\n",
    "m = data[data.profit > 0].genres.str.cat(sep = '|').split('|')\n",
    "answers['12'] = Counter(m).most_common(1)\n",
    "answers['12']"
   ]
  },
  {
   "cell_type": "markdown",
   "metadata": {
    "colab_type": "text",
    "id": "0F23bgsDVp_U"
   },
   "source": [
    "# 13. У какого режиссера самые большие суммарные кассовые сбооры?"
   ]
  },
  {
   "cell_type": "code",
   "execution_count": 20,
   "metadata": {
    "colab": {},
    "colab_type": "code",
    "id": "K6Z3J8ygVp_X"
   },
   "outputs": [
    {
     "data": {
      "text/plain": [
       "<pandas.core.groupby.generic.DataFrameGroupBy object at 0x11a73cfd0>"
      ]
     },
     "metadata": {},
     "output_type": "display_data"
    }
   ],
   "source": [
    "directors_groups = data.groupby(['director'])\n",
    "display(directors_groups)\n"
   ]
  },
  {
   "cell_type": "code",
   "execution_count": 21,
   "metadata": {},
   "outputs": [
    {
     "data": {
      "text/html": [
       "<div>\n",
       "<style scoped>\n",
       "    .dataframe tbody tr th:only-of-type {\n",
       "        vertical-align: middle;\n",
       "    }\n",
       "\n",
       "    .dataframe tbody tr th {\n",
       "        vertical-align: top;\n",
       "    }\n",
       "\n",
       "    .dataframe thead th {\n",
       "        text-align: right;\n",
       "    }\n",
       "</style>\n",
       "<table border=\"1\" class=\"dataframe\">\n",
       "  <thead>\n",
       "    <tr style=\"text-align: right;\">\n",
       "      <th></th>\n",
       "      <th>budget</th>\n",
       "      <th>revenue</th>\n",
       "      <th>runtime</th>\n",
       "      <th>vote_average</th>\n",
       "      <th>release_year</th>\n",
       "      <th>profit</th>\n",
       "    </tr>\n",
       "    <tr>\n",
       "      <th>director</th>\n",
       "      <th></th>\n",
       "      <th></th>\n",
       "      <th></th>\n",
       "      <th></th>\n",
       "      <th></th>\n",
       "      <th></th>\n",
       "    </tr>\n",
       "  </thead>\n",
       "  <tbody>\n",
       "    <tr>\n",
       "      <th>Peter Jackson</th>\n",
       "      <td>1288000000</td>\n",
       "      <td>6490593685</td>\n",
       "      <td>1355</td>\n",
       "      <td>58.1</td>\n",
       "      <td>16059</td>\n",
       "      <td>5202593685</td>\n",
       "    </tr>\n",
       "  </tbody>\n",
       "</table>\n",
       "</div>"
      ],
      "text/plain": [
       "                   budget     revenue  runtime  vote_average  release_year  \\\n",
       "director                                                                     \n",
       "Peter Jackson  1288000000  6490593685     1355          58.1         16059   \n",
       "\n",
       "                   profit  \n",
       "director                   \n",
       "Peter Jackson  5202593685  "
      ]
     },
     "execution_count": 21,
     "metadata": {},
     "output_type": "execute_result"
    }
   ],
   "source": [
    "directors_groups.groups\n",
    "x = directors_groups.sum()\n",
    "max = x.revenue.max()\n",
    "answers['13'] = x[x.revenue == max]\n",
    "answers['13']"
   ]
  },
  {
   "cell_type": "markdown",
   "metadata": {
    "colab_type": "text",
    "id": "PsYC9FgRVp_a"
   },
   "source": [
    "# 14. Какой режисер снял больше всего фильмов в стиле Action?"
   ]
  },
  {
   "cell_type": "code",
   "execution_count": 22,
   "metadata": {
    "colab": {},
    "colab_type": "code",
    "id": "wd2M-wHeVp_b"
   },
   "outputs": [
    {
     "data": {
      "text/plain": [
       "Michael Bay           7\n",
       "Paul W.S. Anderson    7\n",
       "Ridley Scott          6\n",
       "Antoine Fuqua         6\n",
       "Robert Rodriguez      6\n",
       "                     ..\n",
       "David Leland          1\n",
       "Frank Miller          1\n",
       "Alfonso CuarÃ³n       1\n",
       "Neil Burger           1\n",
       "Ben Garant            1\n",
       "Name: director, Length: 345, dtype: int64"
      ]
     },
     "execution_count": 22,
     "metadata": {},
     "output_type": "execute_result"
    }
   ],
   "source": [
    "data = pd.read_csv('movie_bd_v5.csv')\n",
    "action_films = data[data.genres.str.contains('Action')]\n",
    "action_films.director.value_counts()"
   ]
  },
  {
   "cell_type": "code",
   "execution_count": 23,
   "metadata": {},
   "outputs": [
    {
     "data": {
      "text/plain": [
       "[('Robert Rodriguez', 9)]"
      ]
     },
     "execution_count": 23,
     "metadata": {},
     "output_type": "execute_result"
    }
   ],
   "source": [
    "y = action_films['director'].str.cat(sep = '|').split('|')\n",
    "answers['14'] = Counter(y).most_common(1)\n",
    "answers['14']"
   ]
  },
  {
   "cell_type": "markdown",
   "metadata": {
    "colab_type": "text",
    "id": "PQ0KciD7Vp_f"
   },
   "source": [
    "# 15. Фильмы с каким актером принесли самые высокие кассовые сборы в 2012 году? "
   ]
  },
  {
   "cell_type": "code",
   "execution_count": 24,
   "metadata": {
    "colab": {},
    "colab_type": "code",
    "id": "aga62oeKVp_g"
   },
   "outputs": [
    {
     "name": "stdout",
     "output_type": "stream",
     "text": [
      "['Robert Downey Jr.', 'Chris Evans', 'Mark Ruffalo', 'Chris Hemsworth', 'Scarlett Johansson']\n"
     ]
    }
   ],
   "source": [
    "films_2012 = data[data.release_date.str.contains('/2012')]\n",
    "max = films_2012.revenue.max()\n",
    "films_2012 = data[data.revenue == max]\n",
    "actors = films_2012.cast.str.cat(sep = '|').split('|')\n",
    "answers['15'] = print(actors)"
   ]
  },
  {
   "cell_type": "markdown",
   "metadata": {
    "colab_type": "text",
    "id": "mWHyyL7QVp_j"
   },
   "source": [
    "# 16. Какой актер снялся в большем количестве высокобюджетных фильмов?"
   ]
  },
  {
   "cell_type": "code",
   "execution_count": 25,
   "metadata": {
    "colab": {},
    "colab_type": "code",
    "id": "qQtmHKTFVp_k"
   },
   "outputs": [
    {
     "data": {
      "text/plain": [
       "[('Matt Damon', 18), ('Adam Sandler', 17)]"
      ]
     },
     "execution_count": 25,
     "metadata": {},
     "output_type": "execute_result"
    }
   ],
   "source": [
    "z = data[data.budget >= data.budget.mean()].cast.str.cat(sep = '|').split('|')\n",
    "answers['16'] = Counter(z).most_common(2)\n",
    "answers['16']"
   ]
  },
  {
   "cell_type": "markdown",
   "metadata": {
    "colab_type": "text",
    "id": "NIh6AaW5Vp_n"
   },
   "source": [
    "# 17. В фильмах какого жанра больше всего снимался Nicolas Cage? "
   ]
  },
  {
   "cell_type": "code",
   "execution_count": 26,
   "metadata": {
    "colab": {},
    "colab_type": "code",
    "id": "H74SJDIBVp_n"
   },
   "outputs": [
    {
     "data": {
      "text/plain": [
       "[('Action', 17), ('Thriller', 15), ('Drama', 12)]"
      ]
     },
     "execution_count": 26,
     "metadata": {},
     "output_type": "execute_result"
    }
   ],
   "source": [
    "cage_films = data[data.cast.str.contains('Nicolas Cage')]\n",
    "p = cage_films.genres.str.cat(sep = '|').split('|')\n",
    "answers['17'] = Counter(p).most_common(3)\n",
    "answers['17']"
   ]
  },
  {
   "cell_type": "markdown",
   "metadata": {
    "colab_type": "text",
    "id": "RqOmPRfWVp_q"
   },
   "source": [
    "# 18. Самый убыточный фильм от Paramount Pictures"
   ]
  },
  {
   "cell_type": "code",
   "execution_count": 106,
   "metadata": {
    "colab": {},
    "colab_type": "code",
    "id": "9E_B0Y96Vp_r"
   },
   "outputs": [
    {
     "data": {
      "text/html": [
       "<div>\n",
       "<style scoped>\n",
       "    .dataframe tbody tr th:only-of-type {\n",
       "        vertical-align: middle;\n",
       "    }\n",
       "\n",
       "    .dataframe tbody tr th {\n",
       "        vertical-align: top;\n",
       "    }\n",
       "\n",
       "    .dataframe thead th {\n",
       "        text-align: right;\n",
       "    }\n",
       "</style>\n",
       "<table border=\"1\" class=\"dataframe\">\n",
       "  <thead>\n",
       "    <tr style=\"text-align: right;\">\n",
       "      <th></th>\n",
       "      <th>imdb_id</th>\n",
       "      <th>budget</th>\n",
       "      <th>revenue</th>\n",
       "      <th>original_title</th>\n",
       "      <th>cast</th>\n",
       "      <th>director</th>\n",
       "      <th>tagline</th>\n",
       "      <th>overview</th>\n",
       "      <th>runtime</th>\n",
       "      <th>genres</th>\n",
       "      <th>production_companies</th>\n",
       "      <th>release_date</th>\n",
       "      <th>vote_average</th>\n",
       "      <th>release_year</th>\n",
       "      <th>profit</th>\n",
       "      <th>release_month</th>\n",
       "      <th>total_words_in_overview</th>\n",
       "      <th>production_companies_list</th>\n",
       "      <th>name_length</th>\n",
       "    </tr>\n",
       "  </thead>\n",
       "  <tbody>\n",
       "    <tr>\n",
       "      <th>925</th>\n",
       "      <td>tt0267626</td>\n",
       "      <td>100000000</td>\n",
       "      <td>35168966</td>\n",
       "      <td>K-19: The Widowmaker</td>\n",
       "      <td>Harrison Ford|Liam Neeson|Peter Sarsgaard|Joss...</td>\n",
       "      <td>Kathryn Bigelow</td>\n",
       "      <td>Fate has found its hero.</td>\n",
       "      <td>When Russia's first nuclear submarine malfunct...</td>\n",
       "      <td>138</td>\n",
       "      <td>Thriller|Drama|History</td>\n",
       "      <td>Paramount Pictures|Intermedia Films|National G...</td>\n",
       "      <td>7/19/2002</td>\n",
       "      <td>6.0</td>\n",
       "      <td>2002</td>\n",
       "      <td>-64831034</td>\n",
       "      <td>7</td>\n",
       "      <td>23</td>\n",
       "      <td>[Paramount Pictures, Intermedia Films, Nationa...</td>\n",
       "      <td>20</td>\n",
       "    </tr>\n",
       "  </tbody>\n",
       "</table>\n",
       "</div>"
      ],
      "text/plain": [
       "       imdb_id     budget   revenue        original_title  \\\n",
       "925  tt0267626  100000000  35168966  K-19: The Widowmaker   \n",
       "\n",
       "                                                  cast         director  \\\n",
       "925  Harrison Ford|Liam Neeson|Peter Sarsgaard|Joss...  Kathryn Bigelow   \n",
       "\n",
       "                      tagline  \\\n",
       "925  Fate has found its hero.   \n",
       "\n",
       "                                              overview  runtime  \\\n",
       "925  When Russia's first nuclear submarine malfunct...      138   \n",
       "\n",
       "                     genres  \\\n",
       "925  Thriller|Drama|History   \n",
       "\n",
       "                                  production_companies release_date  \\\n",
       "925  Paramount Pictures|Intermedia Films|National G...    7/19/2002   \n",
       "\n",
       "     vote_average  release_year    profit release_month  \\\n",
       "925           6.0          2002 -64831034             7   \n",
       "\n",
       "     total_words_in_overview  \\\n",
       "925                       23   \n",
       "\n",
       "                             production_companies_list  name_length  \n",
       "925  [Paramount Pictures, Intermedia Films, Nationa...           20  "
      ]
     },
     "execution_count": 106,
     "metadata": {},
     "output_type": "execute_result"
    }
   ],
   "source": [
    "par_films = data[data.production_companies.str.contains('Paramount Pictures')]\n",
    "min = par_films.profit.min()\n",
    "answers['18'] = par_films[par_films.profit == min]\n",
    "answers['18']"
   ]
  },
  {
   "cell_type": "markdown",
   "metadata": {
    "colab_type": "text",
    "id": "vS8Ur6ddVp_u"
   },
   "source": [
    "# 19. Какой год стал самым успешным по суммарным кассовым сборам?"
   ]
  },
  {
   "cell_type": "code",
   "execution_count": 107,
   "metadata": {
    "colab": {},
    "colab_type": "code",
    "id": "Dnbt4GdIVp_v"
   },
   "outputs": [
    {
     "data": {
      "text/plain": [
       "2015"
      ]
     },
     "execution_count": 107,
     "metadata": {},
     "output_type": "execute_result"
    }
   ],
   "source": [
    "annual_profit_group = data.groupby(['release_year']).sum()\n",
    "max = annual_profit_group['revenue']\n",
    "m = max.max()\n",
    "answers['19'] = max[max == m].index[0]\n",
    "answers['19']"
   ]
  },
  {
   "cell_type": "markdown",
   "metadata": {
    "colab_type": "text",
    "id": "JAzJh4QAVp_z"
   },
   "source": [
    "# 20. Какой самый прибыльный год для студии Warner Bros?"
   ]
  },
  {
   "cell_type": "code",
   "execution_count": 55,
   "metadata": {
    "colab": {},
    "colab_type": "code",
    "id": "wgVu02DEVp_0"
   },
   "outputs": [
    {
     "data": {
      "text/plain": [
       "release_year\n",
       "2000     452631386\n",
       "2001    1343545668\n",
       "2002    1022709901\n",
       "2003    1855493377\n",
       "2004    1631933725\n",
       "2005    1551980298\n",
       "2006     620170743\n",
       "2007    2201675217\n",
       "2008    2134595031\n",
       "2009    1822454136\n",
       "2010    1974712985\n",
       "2011    1871393682\n",
       "2012    1258020056\n",
       "2013    1636453400\n",
       "2014    2295464519\n",
       "2015     870368348\n",
       "Name: profit, dtype: int64"
      ]
     },
     "execution_count": 55,
     "metadata": {},
     "output_type": "execute_result"
    }
   ],
   "source": [
    "warn_studio = data[data.production_companies.str.contains('Warner Bros')]\n",
    "annual_profit_group = warn_studio.groupby(['release_year']).sum()\n",
    "max = annual_profit_group['profit']\n",
    "max"
   ]
  },
  {
   "cell_type": "markdown",
   "metadata": {
    "colab_type": "text",
    "id": "8Im1S2HRVp_4"
   },
   "source": [
    "# 21. В каком месяце за все годы суммарно вышло больше всего фильмов?"
   ]
  },
  {
   "cell_type": "code",
   "execution_count": 81,
   "metadata": {
    "colab": {},
    "colab_type": "code",
    "id": "lev6TH7gVp_4"
   },
   "outputs": [
    {
     "data": {
      "text/plain": [
       "'9'"
      ]
     },
     "execution_count": 81,
     "metadata": {},
     "output_type": "execute_result"
    }
   ],
   "source": [
    "data['release_month'] = data.release_date.str.split('/').apply(lambda x: x[0])\n",
    "answers['21'] = s[s == s.max()].index[0]\n",
    "answers['21']"
   ]
  },
  {
   "cell_type": "markdown",
   "metadata": {
    "colab_type": "text",
    "id": "uAJsZ_NeVp_7"
   },
   "source": [
    "# 22. Сколько суммарно вышло фильмов летом? (за июнь, июль, август)"
   ]
  },
  {
   "cell_type": "code",
   "execution_count": 87,
   "metadata": {
    "colab": {},
    "colab_type": "code",
    "id": "Aa-hEREoVp_8"
   },
   "outputs": [
    {
     "data": {
      "text/plain": [
       "450"
      ]
     },
     "execution_count": 87,
     "metadata": {},
     "output_type": "execute_result"
    }
   ],
   "source": [
    "answers['22'] = s['6'] + s['7'] +s['8']\n",
    "answers['22']"
   ]
  },
  {
   "cell_type": "markdown",
   "metadata": {
    "colab_type": "text",
    "id": "G94ppOY1VqAA"
   },
   "source": [
    "# 23. Для какого режиссера зима – самое продуктивное время года? "
   ]
  },
  {
   "cell_type": "code",
   "execution_count": 96,
   "metadata": {
    "colab": {},
    "colab_type": "code",
    "id": "RhNTsamuVqAB"
   },
   "outputs": [
    {
     "data": {
      "text/plain": [
       "[('Peter Jackson', 7)]"
      ]
     },
     "execution_count": 96,
     "metadata": {},
     "output_type": "execute_result"
    }
   ],
   "source": [
    "winter_films = data[(data.release_month == '12')|(data.release_month == '1')|(data.release_month == '2')]\n",
    "p = winter_films.director.str.cat(sep = '|').split('|')\n",
    "answers['23'] = Counter(p).most_common(1)\n",
    "answers['23']"
   ]
  },
  {
   "cell_type": "markdown",
   "metadata": {
    "colab_type": "text",
    "id": "RBo0JVjVVqAF"
   },
   "source": [
    "# 24. Какая студия дает самые длинные названия своим фильмам по количеству символов?"
   ]
  },
  {
   "cell_type": "code",
   "execution_count": 90,
   "metadata": {
    "colab": {},
    "colab_type": "code",
    "id": "QRGS8L0iVqAG"
   },
   "outputs": [
    {
     "name": "stdout",
     "output_type": "stream",
     "text": [
      "Four By Two Productions\n"
     ]
    }
   ],
   "source": [
    "data['name_length'] = data.original_title.apply(lambda x: len(x))\n",
    "data['production_companies_list'] = data.production_companies.str.split(\"|\")\n",
    "production_companies_df = data.explode('production_companies_list')\n",
    "answers['24'] = production_companies_df.groupby('production_companies_list').name_length.mean().sort_values(ascending=False).index[0]\n",
    "print(answers['24'])"
   ]
  },
  {
   "cell_type": "markdown",
   "metadata": {
    "colab_type": "text",
    "id": "9G0hbvR7VqAK"
   },
   "source": [
    "# 25. Описание фильмов какой студии в среднем самые длинные по количеству слов?"
   ]
  },
  {
   "cell_type": "code",
   "execution_count": 104,
   "metadata": {
    "colab": {},
    "colab_type": "code",
    "id": "Ge2GsLNxVqAK"
   },
   "outputs": [
    {
     "data": {
      "text/plain": [
       "production_companies_list\n",
       "Midnight Picture Show    175.0\n",
       "Name: total_words_in_overview, dtype: float64"
      ]
     },
     "execution_count": 104,
     "metadata": {},
     "output_type": "execute_result"
    }
   ],
   "source": [
    "data['total_words_in_overview'] = data.overview.apply(lambda x: len(x.split(' ')))\n",
    "data['production_companies_list'] = data['production_companies'].str.split('|')\n",
    "data2 = data.explode('production_companies_list')\n",
    "answers['25'] = data2.groupby(['production_companies_list'])['total_words_in_overview'].mean().sort_values().tail(1)\n",
    "answers['25']"
   ]
  },
  {
   "cell_type": "markdown",
   "metadata": {
    "colab_type": "text",
    "id": "FJ1AFt90VqAP"
   },
   "source": [
    "# 26. Какие фильмы входят в 1 процент лучших по рейтингу? \n",
    "по vote_average"
   ]
  },
  {
   "cell_type": "code",
   "execution_count": 88,
   "metadata": {
    "colab": {},
    "colab_type": "code",
    "id": "8qmJVq4CVqAQ"
   },
   "outputs": [
    {
     "name": "stdout",
     "output_type": "stream",
     "text": [
      "['The Theory of Everything', 'The Lord of the Rings: The Two Towers', 'There Will Be Blood', 'Mr. Nobody', '12 Years a Slave', 'The Pianist', 'Gone Girl', 'Memento', 'Guardians of the Galaxy', 'Inception', 'The Wolf of Wall Street', 'The Grand Budapest Hotel', 'The Lord of the Rings: The Return of the King', 'Room', 'Interstellar', 'Inside Out', 'The Imitation Game', 'The Dark Knight']\n"
     ]
    }
   ],
   "source": [
    "one_percent_of_best_df = data.sort_values(by='vote_average').tail(int(data.original_title.count()/100)).original_title\n",
    "w = one_percent_of_best_df.tolist()\n",
    "answers['26'] = print(w)"
   ]
  },
  {
   "cell_type": "markdown",
   "metadata": {
    "colab_type": "text",
    "id": "MdXsUXbCVqAV"
   },
   "source": [
    "# 27. Какие актеры чаще всего снимаются в одном фильме вместе?\n"
   ]
  },
  {
   "cell_type": "code",
   "execution_count": 100,
   "metadata": {
    "colab_type": "text",
    "id": "4ymnxEVoVqAW"
   },
   "outputs": [
    {
     "data": {
      "text/plain": [
       "[(('Daniel Radcliffe', 'Rupert Grint'), 8)]"
      ]
     },
     "execution_count": 100,
     "metadata": {},
     "output_type": "execute_result"
    }
   ],
   "source": [
    "import itertools \n",
    "import collections\n",
    "data27=pd.read_csv('movie_bd_v5.csv')\n",
    "data27['cast'] = data27['cast'].str.split('|')\n",
    "data_p = data27['cast'].reset_index()\n",
    "data_p['pairs'] = data_p['cast'].apply(lambda s: list(itertools.combinations(s, 2)))\n",
    "data_p = data_p.explode('pairs').reset_index()\n",
    "collections.Counter(data_p['pairs']).most_common(1)"
   ]
  },
  {
   "cell_type": "markdown",
   "metadata": {
    "colab_type": "text",
    "id": "U0nONFnGVqAX"
   },
   "source": [
    "# Submission"
   ]
  },
  {
   "cell_type": "code",
   "execution_count": 105,
   "metadata": {
    "colab": {},
    "colab_type": "code",
    "id": "IfcaRO9-VqAX",
    "outputId": "0f132912-32bb-4196-c98c-abfbc4ad5a5f"
   },
   "outputs": [
    {
     "data": {
      "text/plain": [
       "{'1': '723. Pirates of the Caribbean: On Stranger Tides (tt1298650)',\n",
       " '2': 'Gods and Generals',\n",
       " '3':        imdb_id    budget   revenue   original_title  \\\n",
       " 768  tt1449283  30000000  14460000  Winnie the Pooh   \n",
       " \n",
       "                                                   cast  \\\n",
       " 768  Jim Cummings|Travis Oates|Jim Cummings|Bud Luc...   \n",
       " \n",
       "                       director   tagline  \\\n",
       " 768  Stephen Anderson|Don Hall  Oh Pooh.   \n",
       " \n",
       "                                               overview  runtime  \\\n",
       " 768  During an ordinary day in Hundred Acre Wood, W...       63   \n",
       " \n",
       "                genres                               production_companies  \\\n",
       " 768  Animation|Family  Walt Disney Pictures|Walt Disney Animation Stu...   \n",
       " \n",
       "     release_date  vote_average  release_year  \n",
       " 768    4/13/2011           6.8          2011  ,\n",
       " '4': 109.6585494970884,\n",
       " '5': 107.0,\n",
       " '6': 239    Avatar\n",
       " Name: original_title, dtype: object,\n",
       " '7': 1245    The Lone Ranger\n",
       " Name: original_title, dtype: object,\n",
       " '8': 1478,\n",
       " '9':        imdb_id     budget     revenue   original_title  \\\n",
       " 599  tt0468569  185000000  1001921825  The Dark Knight   \n",
       " \n",
       "                                                   cast           director  \\\n",
       " 599  Christian Bale|Michael Caine|Heath Ledger|Aaro...  Christopher Nolan   \n",
       " \n",
       "              tagline                                           overview  \\\n",
       " 599  Why So Serious?  Batman raises the stakes in his war on crime. ...   \n",
       " \n",
       "      runtime                       genres  \\\n",
       " 599      152  Drama|Action|Crime|Thriller   \n",
       " \n",
       "                                   production_companies release_date  \\\n",
       " 599  DC Comics|Legendary Pictures|Warner Bros.|Syncopy    7/16/2008   \n",
       " \n",
       "      vote_average  release_year     profit  \n",
       " 599           8.1          2008  816921825  ,\n",
       " '10':         imdb_id     budget     revenue                   original_title  \\\n",
       " 1245  tt1210819  255000000    89289910                  The Lone Ranger   \n",
       " 1214  tt0790736  130000000    61648500                         R.I.P.D.   \n",
       " 1007  tt1374992   60000000     8106475                      Upside Down   \n",
       " 1302  tt0884726   70000000    18662027  Legends of Oz: Dorothy's Return   \n",
       " 1235  tt1308729   55000000     9489829               Bullet to the Head   \n",
       " ...         ...        ...         ...                              ...   \n",
       " 1189  tt1690953   76000000   970761885                  Despicable Me 2   \n",
       " 974   tt1074638  200000000  1108561013                          Skyfall   \n",
       " 1180  tt1300854  200000000  1215439994                       Iron Man 3   \n",
       " 1177  tt2294629  150000000  1274219009                           Frozen   \n",
       " 970   tt0848228  220000000  1519557910                     The Avengers   \n",
       " \n",
       "                                                    cast  \\\n",
       " 1245  Johnny Depp|Armie Hammer|William Fichtner|Hele...   \n",
       " 1214  Jeff Bridges|Ryan Reynolds|Kevin Bacon|Stephan...   \n",
       " 1007  Kirsten Dunst|Jim Sturgess|Timothy Spall|James...   \n",
       " 1302  Lea Michele|Dan Aykroyd|Patrick Stewart|Hugh D...   \n",
       " 1235  Sylvester Stallone|Sung Kang|Sarah Shahi|Adewa...   \n",
       " ...                                                 ...   \n",
       " 1189  Steve Carell|Kristen Wiig|Benjamin Bratt|Miran...   \n",
       " 974   Daniel Craig|Judi Dench|Javier Bardem|Ralph Fi...   \n",
       " 1180  Robert Downey Jr.|Gwyneth Paltrow|Guy Pearce|D...   \n",
       " 1177  Kristen Bell|Idina Menzel|Jonathan Groff|Josh ...   \n",
       " 970   Robert Downey Jr.|Chris Evans|Mark Ruffalo|Chr...   \n",
       " \n",
       "                         director  \\\n",
       " 1245              Gore Verbinski   \n",
       " 1214            Robert Schwentke   \n",
       " 1007          Juan Diego Solanas   \n",
       " 1302              Dan St. Pierre   \n",
       " 1235                 Walter Hill   \n",
       " ...                          ...   \n",
       " 1189  Pierre Coffin|Chris Renaud   \n",
       " 974                   Sam Mendes   \n",
       " 1180                 Shane Black   \n",
       " 1177     Chris Buck|Jennifer Lee   \n",
       " 970                  Joss Whedon   \n",
       " \n",
       "                                                 tagline  \\\n",
       " 1245                            Never Take Off the Mask   \n",
       " 1214                    To protect and serve the living   \n",
       " 1007                            Two worlds. One future.   \n",
       " 1302                           There's trouble in OZ...   \n",
       " 1235                            Revenge Never Gets Old.   \n",
       " ...                                                 ...   \n",
       " 1189                                        Back 2 Work   \n",
       " 974                                 Think on your sins.   \n",
       " 1180                Unleash the power behind the armor.   \n",
       " 1177  Only the act of true love will thaw a frozen h...   \n",
       " 970                             Some assembly required.   \n",
       " \n",
       "                                                overview  runtime  \\\n",
       " 1245  The Texas Rangers chase down a gang of outlaws...      149   \n",
       " 1214  A recently slain cop joins a team of undead po...       96   \n",
       " 1007  In an alternate universe where twinned worlds ...      104   \n",
       " 1302  Dorothy wakes up in post-tornado Kansas, only ...       88   \n",
       " 1235  After watching their respective partners die, ...       92   \n",
       " ...                                                 ...      ...   \n",
       " 1189  Gru is recruited by the Anti-Villain League to...       98   \n",
       " 974   When Bond's latest assignment goes gravely wro...      143   \n",
       " 1180  When Tony Stark's world is torn apart by a for...      130   \n",
       " 1177  Young princess Anna of Arendelle dreams about ...      102   \n",
       " 970   When an unexpected enemy emerges and threatens...      143   \n",
       " \n",
       "                                      genres  \\\n",
       " 1245               Action|Adventure|Western   \n",
       " 1214            Fantasy|Action|Comedy|Crime   \n",
       " 1007  Romance|Science Fiction|Drama|Fantasy   \n",
       " 1302                 Animation|Music|Family   \n",
       " 1235                  Action|Crime|Thriller   \n",
       " ...                                     ...   \n",
       " 1189                Animation|Comedy|Family   \n",
       " 974               Action|Adventure|Thriller   \n",
       " 1180       Action|Adventure|Science Fiction   \n",
       " 1177             Animation|Adventure|Family   \n",
       " 970        Science Fiction|Action|Adventure   \n",
       " \n",
       "                                    production_companies release_date  \\\n",
       " 1245  Walt Disney Pictures|Jerry Bruckheimer Films|I...     7/3/2013   \n",
       " 1214  Universal Pictures|Original Film|Dark Horse En...    7/18/2013   \n",
       " 1007  Onyx Films|Studio 37|Jouror Productions|France...    9/27/2012   \n",
       " 1302   Prana Animation Studios|Summertime Entertainment    6/13/2013   \n",
       " 1235  Dark Castle Entertainment|After Dark Films|IM ...    1/31/2013   \n",
       " ...                                                 ...          ...   \n",
       " 1189      Universal Pictures|Illumination Entertainment    6/25/2013   \n",
       " 974                                   Columbia Pictures   10/25/2012   \n",
       " 1180                                     Marvel Studios    4/18/2013   \n",
       " 1177  Walt Disney Pictures|Walt Disney Animation Stu...   11/27/2013   \n",
       " 970                                      Marvel Studios    4/25/2012   \n",
       " \n",
       "       vote_average  release_year      profit  \n",
       " 1245           6.0          2013  -165710090  \n",
       " 1214           5.3          2013   -68351500  \n",
       " 1007           6.1          2012   -51893525  \n",
       " 1302           6.1          2013   -51337973  \n",
       " 1235           5.2          2013   -45510171  \n",
       " ...            ...           ...         ...  \n",
       " 1189           7.0          2013   894761885  \n",
       " 974            6.8          2012   908561013  \n",
       " 1180           6.9          2013  1015439994  \n",
       " 1177           7.5          2013  1124219009  \n",
       " 970            7.3          2012  1299557910  \n",
       " \n",
       " [367 rows x 15 columns],\n",
       " '11': [('Drama', 782)],\n",
       " '12': [('Drama', 560)],\n",
       " '13':                    budget     revenue  runtime  vote_average  release_year  \\\n",
       " director                                                                     \n",
       " Peter Jackson  1288000000  6490593685     1355          58.1         16059   \n",
       " \n",
       "                    profit  \n",
       " director                   \n",
       " Peter Jackson  5202593685  ,\n",
       " '14': [('Robert Rodriguez', 9)],\n",
       " '15': None,\n",
       " '16': [('Matt Damon', 18), ('Adam Sandler', 17)],\n",
       " '17': [('Action', 17), ('Thriller', 15), ('Drama', 12)],\n",
       " '18':        imdb_id    budget  revenue original_title  \\\n",
       " 436  tt0964517  25000000  9190869    The Fighter   \n",
       " \n",
       "                                                   cast          director  \\\n",
       " 436  Mark Wahlberg|Christian Bale|Amy Adams|Melissa...  David O. Russell   \n",
       " \n",
       "                                      tagline  \\\n",
       " 436  Every dream deserves a fighting chance.   \n",
       " \n",
       "                                               overview  runtime genres  \\\n",
       " 436  The Fighter, is a drama about boxer \"Irish\" Mi...      116  Drama   \n",
       " \n",
       "     production_companies release_date  vote_average  release_year  \n",
       " 436   Paramount Pictures   12/17/2010           7.1          2010  ,\n",
       " '19': 2014,\n",
       " '21': '9',\n",
       " '22': 450,\n",
       " '26': None,\n",
       " '25': production_companies_list\n",
       " Midnight Picture Show    175.0\n",
       " Name: total_words_in_overview, dtype: float64,\n",
       " '24': 'Four By Two Productions',\n",
       " '23': [('Peter Jackson', 7)]}"
      ]
     },
     "execution_count": 105,
     "metadata": {},
     "output_type": "execute_result"
    }
   ],
   "source": [
    "# в конце можно посмотреть свои ответы к каждому вопросу\n",
    "answers"
   ]
  },
  {
   "cell_type": "code",
   "execution_count": null,
   "metadata": {
    "colab": {},
    "colab_type": "code",
    "id": "SiRmHPl8VqAd"
   },
   "outputs": [],
   "source": [
    "# и убедиться что ни чего не пропустил)\n",
    "len(answers)"
   ]
  },
  {
   "cell_type": "code",
   "execution_count": null,
   "metadata": {
    "colab": {},
    "colab_type": "code",
    "id": "uCfuTkRbVqAg"
   },
   "outputs": [],
   "source": []
  },
  {
   "cell_type": "code",
   "execution_count": null,
   "metadata": {
    "colab": {},
    "colab_type": "code",
    "id": "Vwx3NrkSVqAl"
   },
   "outputs": [],
   "source": []
  }
 ],
 "metadata": {
  "colab": {
   "name": "Copy of [SF-DST] Movies IMBD v4.1 TEMPLATE.ipynb",
   "provenance": []
  },
  "kernelspec": {
   "display_name": "Python 3",
   "language": "python",
   "name": "python3"
  },
  "language_info": {
   "codemirror_mode": {
    "name": "ipython",
    "version": 3
   },
   "file_extension": ".py",
   "mimetype": "text/x-python",
   "name": "python",
   "nbconvert_exporter": "python",
   "pygments_lexer": "ipython3",
   "version": "3.8.3"
  }
 },
 "nbformat": 4,
 "nbformat_minor": 1
}
